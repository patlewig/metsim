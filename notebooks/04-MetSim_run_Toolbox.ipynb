{
 "cells": [
  {
   "cell_type": "markdown",
   "id": "02822bf5-58c4-41c5-96b6-59cfad9b057e",
   "metadata": {},
   "source": [
    "# Generation of predictions using the OECD Toolbox API\n",
    "- Created by: Louis Groff\n",
    "- PIs: Imran Shah and Grace Patlewicz\n",
    "- Last modified by GP: 28 March 2024\n",
    "- Changes made: Additional notes on implementation added from the SI. Moved functions to metsim package. Tested metsim functions using Toolbox installed on remote server. Adjusted functions to accomodate alternative hostnames to local host."
   ]
  },
  {
   "cell_type": "markdown",
   "id": "0b897b64-9b0b-419a-b9f3-2ffd9241eb04",
   "metadata": {},
   "source": [
    "### Running OECD Toolbox API locally"
   ]
  },
  {
   "cell_type": "markdown",
   "id": "5cff5a9b-00c4-4e2a-9210-2c9bb7ace09d",
   "metadata": {},
   "source": [
    "Most of the effort required to run the Toolbox API takes place with the initial setup of the local CLI instance of the Toolbox server external to the Python environment. After that, the main inputs consist of the user-specified port number (port_number) that the Toolbox is communicating over, a QSAR-Ready SMILES for the parent chemical obtained as described previously, and a numerical value corresponding to the index of the “GUID” identifier hash (model_GUID) for the desired metabolic simulator returned from the list of available simulators within the Toolbox. “GUIDs” are viewable within the Swagger UI for the Web API tool via:\n",
    "http://localhost:<port_number>/api/v6/metabolism/\n",
    "where the indexes in the returned list of simulators corresponding to the In Vivo Rat Simulator and In Vitro Rat Liver S9 models are index **8** and **15**, respectively. The in.hcd_smiles is URL-encoded (smiles_url) via the function within the “urllib” package in Python. An example metabolism API call structure is:\n",
    "http://localhost:<port_number>/api/v6/metabolism/<model_GUID>?smiles=<smiles_url>\n",
    "No further parameter tuning is available, and simulators run on TIMES defaults, except that the types of transformations are limited to phase I metabolism. The functions developed within this study to run the Toolbox take these inputs and perform API calls as necessary to query the Toolbox for metabolites using the given simulator number, and the given SMILES, which returns the list of metabolite SMILES for that chemical if metabolites exist. The Toolbox does not provide avenues to determine generational tracking of its output phase I metabolites. If a given metabolism query to the Toolbox API does not yield metabolites, it is futher queried via its “search” functions using the parent chemical in:casrn to query all available chemical entries for that in:casrn. The input casrn is stripped of hyphens in the API URL call (cas_nohyphen). The search parameters are set such that they ignore stereochemical information as well (True/False parameter at the end of the URL call). An example of the URL structure to perform a search on a casrn is given below:\n",
    "http://localhost:<port_number>/api/v6/search/<cas_nohyphen>/true\n",
    "These entries were filtered to remove mixtures, which discards any of the results where the “SubstanceType” parameter in the output of the API call does not equal “MonoConstituent”. Metabolism queries are sequentially performed on each of the Chemical Identifier hash strings (ChemID) associated with mono-constituent chemical entries until the SMILES associated with one of the entries returns metabolite SMILES. In this case, the URL structure changes minorly from the above API call when SMILES is given to instead use the ChemID returned from the CASRN search:\n",
    "http://localhost:<port_number>/api/v6/metabolism/<model_GUID>/<ChemID>\n",
    "If none of the available mono-constituent chemical entries in the Toolbox API database yield metabolites, an empty output schema is stored accordingly to reflect this result."
   ]
  },
  {
   "cell_type": "markdown",
   "id": "f2ffc9fd-2baf-47db-84eb-370582c8fe40",
   "metadata": {},
   "source": [
    "### Running OECD Toolbox API remotely"
   ]
  },
  {
   "cell_type": "markdown",
   "id": "446ed779-8b24-4202-96e1-441089bb58eb",
   "metadata": {},
   "source": [
    "The WebSuite app is aimed towards local users who want to access the Toolbox WebAPI and WebClient on the same computer. When launched, WebSuite starts a WebAPI server bound to a random port on the local machine (127.0.0.1) which is only accessible to local users (on the same host).\n",
    "In order to allow remote access to the WebAPI and the Web Client, you need to deploy the WebAPI server manually. There are various ways to do so (the server can either be run as a self hosted service or behind a web server as IIS). The simplest way is to run the WebAPI executable (LMC.Toolbox.WebAPI.exe, usually in %ProgramFiles(x86)%\\QSAR Toolbox\\QSAR Toolbox 4.5\\Toolbox Server\\Bin) from the command line, specifying a port in the urls parameter, e.g.:\n",
    "LMC.Toolbox.WebAPI.exe --urls=\"http://0.0.0.0:80\"\n",
    "\n",
    "You then need to allow access to this port on the host. To access the web client, you construct a url in the following format (substituting <host> and <port> with the proper values):\n",
    "\n",
    "http(s)://<host>:<port>/WebClient?webapihost=<host>&webapiport=<port>"
   ]
  },
  {
   "cell_type": "markdown",
   "id": "e9af2aa9-c261-4b6a-af97-a2d35c1d9511",
   "metadata": {},
   "source": [
    "### Import relevant libraries including the metsim functions"
   ]
  },
  {
   "cell_type": "code",
   "execution_count": 1,
   "id": "936b7e11-e4fd-4720-83fb-4a3d5e06b895",
   "metadata": {},
   "outputs": [],
   "source": [
    "import os, sys\n",
    "import pandas as pd"
   ]
  },
  {
   "cell_type": "code",
   "execution_count": 2,
   "id": "9ec90825-69fe-40c0-9bb5-3671bd2bc53a",
   "metadata": {},
   "outputs": [],
   "source": [
    "LIB = os.getcwd().replace(\"notebooks\", \"\")"
   ]
  },
  {
   "cell_type": "code",
   "execution_count": 3,
   "id": "8c99b2f7-fcba-450b-bf0b-807f641c0545",
   "metadata": {},
   "outputs": [],
   "source": [
    "if not LIB in sys.path: \n",
    "    sys.path.insert(0,LIB)"
   ]
  },
  {
   "cell_type": "code",
   "execution_count": 4,
   "id": "37dbfec1-9a43-4bb4-8412-ead933adebba",
   "metadata": {},
   "outputs": [
    {
     "data": {
      "text/plain": [
       "'/home/grace/Documents/python/metsim/'"
      ]
     },
     "execution_count": 4,
     "metadata": {},
     "output_type": "execute_result"
    }
   ],
   "source": [
    "LIB"
   ]
  },
  {
   "cell_type": "code",
   "execution_count": 13,
   "id": "5bf94667-9eef-42b7-89e5-9459b373a0f3",
   "metadata": {},
   "outputs": [],
   "source": [
    "from metsim.sim.metsim_tb import *"
   ]
  },
  {
   "cell_type": "markdown",
   "id": "72a794dc-e7d2-4a2d-b358-e9401ff49905",
   "metadata": {},
   "source": [
    "### Running MetSim using the QSAR Toolbox WebServer"
   ]
  },
  {
   "cell_type": "markdown",
   "id": "521dc9ea-f822-47cb-a64c-760e09d79c17",
   "metadata": {},
   "source": [
    "### 1. metsim_run_toolbox_api():\n",
    "    Runs a metabolism simulation based on available data in the Toolbox, using qsar-ready SMILES as input for metabolism simulation, if metabolism simulation fails, we note which molecules fail and pass to metsim_search_toolbox_api to find altername chemical IDs (ChemId in Toolbox Outputs) to reattempt metabolism simulation with alternate qsar-ready smiles from toolbox. On occasion, the default record that comes up from a SMILES metabolism simulation doesn't have metabolites associated, but other records for the same chemical will.\n",
    "    input: Toolbox API host and port number running within command prompt (required), simulator number (0-17, metsim_url_base subfunction will give list of GUIDs corresponding to which metabolism simulator is desired. 15 = In Vitro Rat Liver S9 Phase I model from TIMES, required, 8 = In Vivo Rat Liver model from TIMES), QSAR-Ready SMILES string (required), CASRN (optional), DTXSID (optional), chemical name (optional), index (for multiprocessing to keep track of sequential order of input data while parallel processing).\n",
    "    action: Simulates rat liver metabolism (Assumed default from TIMES as 3 cycles of Phase I, thresholded at 5 metabolites/cycle or 0.1 Transformation probability, uncertain if true)\n",
    "    output: tuple of index parameter and standardized dictionary of precursor and successors for each chemical (not generationally tracked).\n",
    "### 2. metsim_search_toolbox_api():\n",
    "    inputs: same as metsim_run_toolbox_api()\n",
    "    action: Searches QSAR Toolbox Database for alternate records for the same chemical, and attempts metabolism simulation for all qsar-ready smiles records for a given chemical either until one succeeds, or all fail, and the standardised output dictionary is updated accordingly.\n",
    "    output: same as metsim_run_toolbox_api()\n",
    "    \n",
    "### 3. metsim_tb_search_logkow()\n",
    "    Search the OECD Toolbox database via its WebAPI for a chemical ID for an input chemical, and then \n",
    "    return the octanol-water partition coefficient to have a measure of its hydrophobicity.\n",
    "    \n",
    "    Inputs: \n",
    "    casrn: CAS Registry Number\n",
    "    tb_port: Port number selected for running instance of the Toolbox WebServer\n",
    "    host_name: Hostname for the running instance of the Toolbox WebServer\n",
    "    Outputs:\n",
    "    log_kow: Log10 scaled octanol-water partition coefficient, if available."
   ]
  },
  {
   "cell_type": "markdown",
   "id": "54b1e7d2-8394-4bdb-b9c6-92566ae757b2",
   "metadata": {},
   "source": [
    "### Test run for the *in vitro* metabolism simulator using simulator number 15"
   ]
  },
  {
   "cell_type": "code",
   "execution_count": 7,
   "id": "a7e69623-a750-42df-bb87-c47f8a001f9d",
   "metadata": {},
   "outputs": [
    {
     "name": "stdout",
     "output_type": "stream",
     "text": [
      "Attempting metsim from SMILES input for index #None...\n",
      "metsim succeeded for index #None\n"
     ]
    },
    {
     "data": {
      "text/plain": [
       "(None,\n",
       " {'datetime': '2024-03-28_18h19m18s',\n",
       "  'software': 'OECD QSAR Toolbox WebAPI',\n",
       "  'version': 6,\n",
       "  'params': {'depth': 3,\n",
       "   'organism': 'Rat',\n",
       "   'site_of_metabolism': False,\n",
       "   'model': ['Rat liver S9 metabolism simulator']},\n",
       "  'input': {'smiles': 'OCCOCCO',\n",
       "   'inchikey': None,\n",
       "   'casrn': None,\n",
       "   'hcd_smiles': None,\n",
       "   'dtxsid': None,\n",
       "   'chem_name': None},\n",
       "  'output': [{'precursor': {'smiles': 'OCCOCCO',\n",
       "     'inchikey': None,\n",
       "     'casrn': None,\n",
       "     'hcd_smiles': None,\n",
       "     'dtxsid': None,\n",
       "     'chem_name': None},\n",
       "    'successors': [{'enzyme': None,\n",
       "      'mechanism': None,\n",
       "      'metabolite': {'smiles': 'OCCOCC(O)=O',\n",
       "       'inchikey': None,\n",
       "       'casrn': None,\n",
       "       'hcd_smiles': None,\n",
       "       'dtxsid': None,\n",
       "       'chem_name': None}},\n",
       "     {'enzyme': None,\n",
       "      'mechanism': None,\n",
       "      'metabolite': {'smiles': 'OCCOCC=O',\n",
       "       'inchikey': None,\n",
       "       'casrn': None,\n",
       "       'hcd_smiles': None,\n",
       "       'dtxsid': None,\n",
       "       'chem_name': None}}]}]})"
      ]
     },
     "execution_count": 7,
     "metadata": {},
     "output_type": "execute_result"
    }
   ],
   "source": [
    "metsim_run_toolbox_api(host_name =host_name, tb_port =30000, simulator_num = 15, smiles = 'OCCOCCO')"
   ]
  },
  {
   "cell_type": "markdown",
   "id": "04ad7ef8-dd4f-40ca-a5a3-15f3a9388c34",
   "metadata": {},
   "source": [
    "### Test run using the *in vivo* rat liver simulator"
   ]
  },
  {
   "cell_type": "code",
   "execution_count": 8,
   "id": "56f8f915-7909-4f5b-ae5b-f83838899720",
   "metadata": {},
   "outputs": [
    {
     "name": "stdout",
     "output_type": "stream",
     "text": [
      "Attempting metsim from SMILES input for index #None...\n",
      "metsim succeeded for index #None\n"
     ]
    },
    {
     "data": {
      "text/plain": [
       "(None,\n",
       " {'datetime': '2024-03-28_18h19m23s',\n",
       "  'software': 'OECD QSAR Toolbox WebAPI',\n",
       "  'version': 6,\n",
       "  'params': {'depth': 3,\n",
       "   'organism': 'Rat',\n",
       "   'site_of_metabolism': False,\n",
       "   'model': ['in vivo Rat metabolism simulator']},\n",
       "  'input': {'smiles': 'OCCOCCO',\n",
       "   'inchikey': None,\n",
       "   'casrn': None,\n",
       "   'hcd_smiles': None,\n",
       "   'dtxsid': None,\n",
       "   'chem_name': None},\n",
       "  'output': [{'precursor': {'smiles': 'OCCOCCO',\n",
       "     'inchikey': None,\n",
       "     'casrn': None,\n",
       "     'hcd_smiles': None,\n",
       "     'dtxsid': None,\n",
       "     'chem_name': None},\n",
       "    'successors': [{'enzyme': None,\n",
       "      'mechanism': None,\n",
       "      'metabolite': {'smiles': 'OCCOCC(O)=O',\n",
       "       'inchikey': None,\n",
       "       'casrn': None,\n",
       "       'hcd_smiles': None,\n",
       "       'dtxsid': None,\n",
       "       'chem_name': None}},\n",
       "     {'enzyme': None,\n",
       "      'mechanism': None,\n",
       "      'metabolite': {'smiles': 'OCCOCC=O',\n",
       "       'inchikey': None,\n",
       "       'casrn': None,\n",
       "       'hcd_smiles': None,\n",
       "       'dtxsid': None,\n",
       "       'chem_name': None}}]}]})"
      ]
     },
     "execution_count": 8,
     "metadata": {},
     "output_type": "execute_result"
    }
   ],
   "source": [
    "metsim_run_toolbox_api(host_name =host_name, tb_port =30000, simulator_num = 8, smiles = 'OCCOCCO')"
   ]
  },
  {
   "cell_type": "markdown",
   "id": "7139e14e-8d42-4fd8-96e2-ef54cf27cb21",
   "metadata": {},
   "source": [
    "### Test run using the calculator to query back predicted LogKow values "
   ]
  },
  {
   "cell_type": "code",
   "execution_count": 9,
   "id": "109ee184-2447-420a-89ba-0e2a0131fd35",
   "metadata": {},
   "outputs": [
    {
     "name": "stdout",
     "output_type": "stream",
     "text": [
      "Searching Toolbox database for ChemIds using CASRN: 15687-27-1.\n",
      "Toolbox database ChemIds found for CASRN: 15687-27-1 via Toolbox API search.\n",
      "Monoconstituent ChemIds found within search results...\n",
      "Calculating Log Kow value for ChemId 1/2...\n",
      "Log Kow value successfully determined for CASRN: 15687-27-1.\n"
     ]
    },
    {
     "data": {
      "text/plain": [
       "3.793"
      ]
     },
     "execution_count": 9,
     "metadata": {},
     "output_type": "execute_result"
    }
   ],
   "source": [
    "metsim_tb_search_logkow(casrn = '15687-27-1', host_name = host_name, tb_port = 30000)"
   ]
  },
  {
   "cell_type": "markdown",
   "id": "7ac54483-7786-4b04-80bb-bcbe52e50c7f",
   "metadata": {},
   "source": [
    "### Test run using the search to query back on alternative Chemical Ids using default of the *in vitro* rat simulator"
   ]
  },
  {
   "cell_type": "code",
   "execution_count": 14,
   "id": "f3805299-1d2e-4faf-a21f-7b2e8c020157",
   "metadata": {},
   "outputs": [
    {
     "name": "stdout",
     "output_type": "stream",
     "text": [
      "Base SMILES query for index #None yields no metabolites. Searching for alternate ChemIds...\n",
      "Alternate ChemId corresponding to a QSAR-Ready SMILES found for index #None. Attempting metsim...\n",
      "Metsim succeeded for index #None\n"
     ]
    },
    {
     "data": {
      "text/plain": [
       "(None,\n",
       " {'datetime': '2024-03-28_18h33m14s',\n",
       "  'software': 'OECD QSAR Toolbox WebAPI',\n",
       "  'version': 6,\n",
       "  'params': {'depth': 3,\n",
       "   'organism': 'Rat',\n",
       "   'site_of_metabolism': False,\n",
       "   'model': ['Rat liver S9 metabolism simulator']},\n",
       "  'input': {'smiles': None,\n",
       "   'inchikey': None,\n",
       "   'casrn': '15687-27-1',\n",
       "   'hcd_smiles': None,\n",
       "   'dtxsid': None,\n",
       "   'chem_name': None},\n",
       "  'output': [{'precursor': {'smiles': None,\n",
       "     'inchikey': None,\n",
       "     'casrn': '15687-27-1',\n",
       "     'hcd_smiles': None,\n",
       "     'dtxsid': None,\n",
       "     'chem_name': None},\n",
       "    'successors': [{'enzyme': None,\n",
       "      'mechanism': None,\n",
       "      'metabolite': {'smiles': 'CC(C(O)=O)c1ccc(CC(C)(C)O)cc1',\n",
       "       'inchikey': None,\n",
       "       'casrn': None,\n",
       "       'hcd_smiles': None,\n",
       "       'dtxsid': None,\n",
       "       'chem_name': None}},\n",
       "     {'enzyme': None,\n",
       "      'mechanism': None,\n",
       "      'metabolite': {'smiles': 'CC(CO)Cc1ccc(cc1)C(C)C(O)=O',\n",
       "       'inchikey': None,\n",
       "       'casrn': None,\n",
       "       'hcd_smiles': None,\n",
       "       'dtxsid': None,\n",
       "       'chem_name': None}},\n",
       "     {'enzyme': None,\n",
       "      'mechanism': None,\n",
       "      'metabolite': {'smiles': 'CC(Cc1ccc(cc1)C(C)C(O)=O)C(O)=O',\n",
       "       'inchikey': None,\n",
       "       'casrn': None,\n",
       "       'hcd_smiles': None,\n",
       "       'dtxsid': None,\n",
       "       'chem_name': None}},\n",
       "     {'enzyme': None,\n",
       "      'mechanism': None,\n",
       "      'metabolite': {'smiles': 'CC(Cc1ccc(cc1)C(C)C(O)=O)C=O',\n",
       "       'inchikey': None,\n",
       "       'casrn': None,\n",
       "       'hcd_smiles': None,\n",
       "       'dtxsid': None,\n",
       "       'chem_name': None}}]}]})"
      ]
     },
     "execution_count": 14,
     "metadata": {},
     "output_type": "execute_result"
    }
   ],
   "source": [
    "metsim_search_toolbox_api(casrn = '15687-27-1', host_name = host_name, tb_port = 30000)"
   ]
  },
  {
   "cell_type": "code",
   "execution_count": null,
   "id": "ad5d2dff-e1a4-4f58-bc54-5f457caf8959",
   "metadata": {},
   "outputs": [],
   "source": []
  },
  {
   "cell_type": "code",
   "execution_count": 9,
   "id": "afa66926-eeb7-4964-b9fe-e5685e19898f",
   "metadata": {},
   "outputs": [],
   "source": [
    "drug_dataset = json.load(open('smpdb_jcim_valid_aggregate_112parents.json','r'))\n",
    "pool = mp.Pool(mp.cpu_count()) #define number of available processors.\n",
    "tb_metsim_vitro = pool.starmap_async(toolbox_metsim_api,\n",
    "                                      #arguments (must be listed in the same order as given in the function definition):\n",
    "                                      [(16384, #tb_port\n",
    "                                        15, #simulator_num\n",
    "                                        drug_dataset[idx]['input']['hcd_smiles'], #smiles\n",
    "                                        drug_dataset[idx]['input']['casrn'], #casrn\n",
    "                                        drug_dataset[idx]['input']['dtxsid'], #dtxsid\n",
    "                                        drug_dataset[idx]['input']['chem_name'], #Chemical Name\n",
    "                                        idx #index\n",
    "                                       )\n",
    "                                       for idx in range(len(drug_dataset[0:5]))]).get()\n",
    "\n",
    "metsim_rerun_vitro = [i for i in range(len(tb_metsim_vitro)) if type(tb_metsim_vitro[i][1]) == int]\n",
    "for idx in metsim_rerun_vitro:\n",
    "    tb_metsim_vitro[idx] = pool.apply(toolbox_metsim_api_search,\n",
    "                                       #arguments (must be listed in the same order as given in the function definition):\n",
    "                                       args = (16384, #tb_port\n",
    "                                                15, #simulator_num\n",
    "                                                drug_dataset[idx]['input']['hcd_smiles'], #smiles\n",
    "                                                drug_dataset[idx]['input']['casrn'], #casrn\n",
    "                                                drug_dataset[idx]['input']['dtxsid'], #dtxsid\n",
    "                                                drug_dataset[idx]['input']['chem_name'], #Chemical Name\n",
    "                                                tb_metsim_vitro[idx][0] #index\n",
    "                                              )\n",
    "                                      )\n",
    "#keep output dictionaries in list, remove tuple index:\n",
    "tb_metsim_vitro = [tb_metsim_vitro[i][1] for i in range(len(tb_metsim_vitro))]\n",
    "pool.close()"
   ]
  },
  {
   "cell_type": "code",
   "execution_count": null,
   "id": "1e7e5233-67d1-4253-836e-c147ed937bf0",
   "metadata": {
    "tags": []
   },
   "outputs": [],
   "source": [
    "metsim_metadata_full(tb_metsim_vitro, fnam = 'tb_metsim_invivoratsimulator_112parents.json')"
   ]
  }
 ],
 "metadata": {
  "kernelspec": {
   "display_name": "py39",
   "language": "python",
   "name": "py39"
  },
  "language_info": {
   "codemirror_mode": {
    "name": "ipython",
    "version": 3
   },
   "file_extension": ".py",
   "mimetype": "text/x-python",
   "name": "python",
   "nbconvert_exporter": "python",
   "pygments_lexer": "ipython3",
   "version": "3.9.16"
  },
  "widgets": {
   "application/vnd.jupyter.widget-state+json": {
    "state": {},
    "version_major": 2,
    "version_minor": 0
   }
  }
 },
 "nbformat": 4,
 "nbformat_minor": 5
}
