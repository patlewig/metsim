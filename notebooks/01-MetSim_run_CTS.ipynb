{
 "cells": [
  {
   "cell_type": "markdown",
   "id": "c6c9ea74-fb86-49d0-b218-bb7d69605974",
   "metadata": {},
   "source": [
    "### Generation of predictions using Chemical Transformation Simulator (CTS)\n",
    "- Created by: Louis Groff\n",
    "- PIs: Imran Shah and Grace Patlewicz (GP)\n",
    "- Last modified by GP: 27 March 2024\n",
    "- Changes made: Test sample SMILES to verify functionality of functional calls to produce HCD and CTS outputs"
   ]
  },
  {
   "cell_type": "markdown",
   "id": "07bb78d9-5beb-45b2-9b02-a29638f0e006",
   "metadata": {},
   "source": [
    "## Running CTS"
   ]
  },
  {
   "cell_type": "markdown",
   "id": "cc76d782-dd27-4bec-ac19-07830b9693f3",
   "metadata": {},
   "source": [
    "CTS can be run using its REST API at https://qed.epa.gov/cts/rest. The API is queried via a post call using the requests package, where the url parameter is: \n",
    "https://qed.epa.gov/cts/rest/metabolizer/run and the POST with the model parameters (json input keyword in request.post) is given as a dictionary with three parameters, “structure” (SMILES string), “generationLimit” (integer value between 1-4 to indicate desired transformation depth), and “transformationLibraries” (indicates model choice). The ChemAxon Human Phase I metabolizer is chosen by setting “transformationLibraries” to [“mammalian_metabolism”]. Thus the json parameter with the POST dictionary structure is:\n",
    "{\"structure\": <qsar_ready_smiles>, \"generationLimit\": <1-4>, \"transformationLibraries\": [\"mammalian_metabolism\"]}\n",
    "The generationLimit of 3 was chosen because the current CTS REST API (as of November 2023) is prone to running out of memory for large metabolism trees. Workarounds and solutions to this issue are in progress, but it is recommended to limit the transformation depth between 1-3 generations for the greatest number of successfully returned metabolism queries."
   ]
  },
  {
   "cell_type": "markdown",
   "id": "5d7ff440-b093-47ed-909b-fa282e934014",
   "metadata": {},
   "source": [
    "### Import relevant libraries"
   ]
  },
  {
   "cell_type": "code",
   "execution_count": 1,
   "id": "12af784f-22f4-41c4-a82f-ed9ba6105c05",
   "metadata": {},
   "outputs": [],
   "source": [
    "import os, sys"
   ]
  },
  {
   "cell_type": "markdown",
   "id": "c6b01389-9055-40e9-b50f-430dae7e72bf",
   "metadata": {},
   "source": [
    "### Set LIB directory to call functions from metsim package"
   ]
  },
  {
   "cell_type": "code",
   "execution_count": 2,
   "id": "bbc559a1-5d1b-4261-8fe3-ad2ce653d6df",
   "metadata": {},
   "outputs": [],
   "source": [
    "LIB = os.getcwd().replace(\"notebooks\", \"\")"
   ]
  },
  {
   "cell_type": "code",
   "execution_count": 3,
   "id": "1ad93114-a93f-40fd-960d-2f43e1fb194d",
   "metadata": {},
   "outputs": [],
   "source": [
    "if not LIB in sys.path: \n",
    "    sys.path.insert(0,LIB)"
   ]
  },
  {
   "cell_type": "code",
   "execution_count": 4,
   "id": "0665dada-78f3-483e-8464-f8135b153b32",
   "metadata": {},
   "outputs": [],
   "source": [
    "from metsim.sim.metsim_cts import *"
   ]
  },
  {
   "cell_type": "markdown",
   "id": "43f5becb-987e-4d11-b9e6-1f68f1b40840",
   "metadata": {},
   "source": [
    "### Testing CTS metsim function for sample chemical using 3 generations"
   ]
  },
  {
   "cell_type": "code",
   "execution_count": 6,
   "id": "afcbffc7-0ec8-4572-a5c1-8487890ccf7e",
   "metadata": {},
   "outputs": [
    {
     "name": "stderr",
     "output_type": "stream",
     "text": [
      "/home/grace/anaconda3/envs/py39/lib/python3.9/site-packages/urllib3/connectionpool.py:1045: InsecureRequestWarning: Unverified HTTPS request is being made to host 'qed.epa.gov'. Adding certificate verification is strongly advised. See: https://urllib3.readthedocs.io/en/1.26.x/advanced-usage.html#ssl-warnings\n",
      "  warnings.warn(\n"
     ]
    },
    {
     "name": "stdout",
     "output_type": "stream",
     "text": [
      "CTS API successfully returned metabolism predictions for 3 cycles of Phase I metabolism for input SMILES: OCCOCCO\n"
     ]
    }
   ],
   "source": [
    "test_cts = metsim_run_cts('OCCOCCO',  3)"
   ]
  },
  {
   "cell_type": "markdown",
   "id": "a7963868-5b16-48d8-a2ec-ea99decc4f81",
   "metadata": {},
   "source": [
    "### Processing output of CTS API call to create MetSim format"
   ]
  },
  {
   "cell_type": "code",
   "execution_count": 6,
   "id": "06eff00d-8919-4aa5-9d32-c8adea2832b9",
   "metadata": {},
   "outputs": [
    {
     "name": "stderr",
     "output_type": "stream",
     "text": [
      "/home/grace/anaconda3/envs/py39/lib/python3.9/site-packages/urllib3/connectionpool.py:1045: InsecureRequestWarning: Unverified HTTPS request is being made to host 'qed.epa.gov'. Adding certificate verification is strongly advised. See: https://urllib3.readthedocs.io/en/1.26.x/advanced-usage.html#ssl-warnings\n",
      "  warnings.warn(\n"
     ]
    },
    {
     "name": "stdout",
     "output_type": "stream",
     "text": [
      "CTS API successfully returned metabolism predictions for 1 cycles of Phase I metabolism for input SMILES: OCCOCCO\n",
      "children key found in dictionary\n",
      "3 children found for precursor generation level 0\n",
      "precursor-successor relationships appended for current generational level.\n"
     ]
    },
    {
     "data": {
      "text/plain": [
       "{'datetime': '2024-03-28_12h48m59s',\n",
       " 'software': 'EPA Chemical Transformation Simulator',\n",
       " 'version': '1.3.2.2',\n",
       " 'params': {'depth': 1,\n",
       "  'organism': 'human',\n",
       "  'site_of_metabolism': False,\n",
       "  'model': 'ChemAxon Human Phase I'},\n",
       " 'input': {'smiles': 'OCCOCCO',\n",
       "  'inchikey': None,\n",
       "  'casrn': None,\n",
       "  'hcd_smiles': None,\n",
       "  'dtxsid': None,\n",
       "  'chem_name': None},\n",
       " 'output': [{'precursor': {'smiles': 'OCCOCCO',\n",
       "    'inchikey': None,\n",
       "    'casrn': None,\n",
       "    'hcd_smiles': None,\n",
       "    'dtxsid': None,\n",
       "    'chem_name': None,\n",
       "    'likelihood': 'UNLIKELY'},\n",
       "   'successors': [{'enzyme': None,\n",
       "     'mechanism': 'PrimaryAlcoholOxidation',\n",
       "     'generation': 1,\n",
       "     'metabolite': {'smiles': 'OCCOCC=O',\n",
       "      'inchikey': None,\n",
       "      'casrn': None,\n",
       "      'hcd_smiles': None,\n",
       "      'dtxsid': None,\n",
       "      'chem_name': None,\n",
       "      'likelihood': 'UNLIKELY'}},\n",
       "    {'enzyme': None,\n",
       "     'mechanism': 'O-Dealkylation',\n",
       "     'generation': 1,\n",
       "     'metabolite': {'smiles': 'OCCO',\n",
       "      'inchikey': None,\n",
       "      'casrn': None,\n",
       "      'hcd_smiles': None,\n",
       "      'dtxsid': None,\n",
       "      'chem_name': None,\n",
       "      'likelihood': 'UNLIKELY'}},\n",
       "    {'enzyme': None,\n",
       "     'mechanism': 'O-Dealkylation',\n",
       "     'generation': 1,\n",
       "     'metabolite': {'smiles': 'OCC=O',\n",
       "      'inchikey': None,\n",
       "      'casrn': None,\n",
       "      'hcd_smiles': None,\n",
       "      'dtxsid': None,\n",
       "      'chem_name': None,\n",
       "      'likelihood': 'UNLIKELY'}}]}],\n",
       " 'api_success': True}"
      ]
     },
     "execution_count": 6,
     "metadata": {},
     "output_type": "execute_result"
    }
   ],
   "source": [
    "metsim_cts_phaseI_out(in_smiles = 'OCCOCCO', depth = 1)"
   ]
  },
  {
   "cell_type": "markdown",
   "id": "d410f59b-2901-4653-a093-5643f963824f",
   "metadata": {},
   "source": [
    "### Testing the HCD function using a QSAR Ready SMILES from the 112 dataset"
   ]
  },
  {
   "cell_type": "code",
   "execution_count": 7,
   "id": "b1b91302-f7c8-42bf-9995-e00351b12423",
   "metadata": {},
   "outputs": [
    {
     "name": "stdout",
     "output_type": "stream",
     "text": [
      "Attempting query of Cheminformatics Modules Standardizer with SMILES: OCCOCCO...\n",
      "Query succeeded.\n"
     ]
    },
    {
     "data": {
      "text/plain": [
       "{'smiles': 'OCCOCCO',\n",
       " 'casrn': '111-46-6',\n",
       " 'hcd_smiles': 'OCCOCCO',\n",
       " 'inchikey': 'MTHSVFCYNBDYFN-UHFFFAOYNA-N',\n",
       " 'dtxsid': 'DTXSID8020462',\n",
       " 'chem_name': 'Diethylene glycol',\n",
       " 'likelihood': None}"
      ]
     },
     "execution_count": 7,
     "metadata": {},
     "output_type": "execute_result"
    }
   ],
   "source": [
    "metsim_hcd_out(smiles = \"OCCOCCO\")"
   ]
  },
  {
   "cell_type": "code",
   "execution_count": null,
   "id": "58d6fb8f-ca0f-4b5b-b80d-e2fdd60a25aa",
   "metadata": {},
   "outputs": [],
   "source": []
  }
 ],
 "metadata": {
  "kernelspec": {
   "display_name": "py39",
   "language": "python",
   "name": "py39"
  },
  "language_info": {
   "codemirror_mode": {
    "name": "ipython",
    "version": 3
   },
   "file_extension": ".py",
   "mimetype": "text/x-python",
   "name": "python",
   "nbconvert_exporter": "python",
   "pygments_lexer": "ipython3",
   "version": "3.9.16"
  },
  "widgets": {
   "application/vnd.jupyter.widget-state+json": {
    "state": {},
    "version_major": 2,
    "version_minor": 0
   }
  }
 },
 "nbformat": 4,
 "nbformat_minor": 5
}
