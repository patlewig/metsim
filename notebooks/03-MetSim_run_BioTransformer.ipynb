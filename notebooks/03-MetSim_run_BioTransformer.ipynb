{
 "cells": [
  {
   "cell_type": "markdown",
   "id": "35c604e1-4408-4e20-b038-d087f9e26c75",
   "metadata": {},
   "source": [
    "# Generation of predictions using BioTransformer\n",
    "- Created by: Louis Groff\n",
    "- PIs: Imran Shah and Grace Patlewicz (GP)\n",
    "- Last modified by GP: 28 March 2024\n",
    "- Changes made: Additional notes on implementation added from the SI and clean up of the notebook to remove function into the metsim package."
   ]
  },
  {
   "cell_type": "markdown",
   "id": "2982b32c-ab0a-469a-921c-0fe55436c37c",
   "metadata": {},
   "source": [
    "## Information re installation and operation of BioTransformer "
   ]
  },
  {
   "cell_type": "markdown",
   "id": "b23ad5dc-2b99-427f-8fb3-3bb9da5e754a",
   "metadata": {},
   "source": [
    "A working copy of BioTransformer is needed. Assuming the input directory contains the BioTransformer Executable Java Archive (JAR) the full Command Line Interface (CLI) input command would be: java -jar BioTransformer3.0_20220615.jar -k pred -q \"ecbased:1;cyp450:2;phaseII:1\" -cm 1 -ismi \"<in.hcd_smiles>\" -ocsv \".\\tmpfiles\\btrans_out_<in.dtxsid>_randomfilename string>.csv\" The randomly suffixed output files generated via the “tempfile” package in Python can either be kept or discarded after data processing is completed. "
   ]
  },
  {
   "cell_type": "markdown",
   "id": "d1ba7c8d-ad97-478d-b73f-ea0c0b770609",
   "metadata": {},
   "source": [
    "For the validation datasets, the models used were either “cyp450” for single-step phase I metabolism (Table S2 in the supplemental information), or any mixture of “cyp450”, “ecbased” and “phaseII” that terminated in phase II, whether individual runs or sequential. The CLI command for the highest performing single-step human model (no gut) was:\n",
    "java -jar BioTransformer3.0_20220615.jar -k pred -q \"ecbased:1;cyp450:1;phaseII:1\" -cm 1 -ismi \"<in:smiles>\" -ocsv \".\\tmpfiles\\btrans_out_<in.dtxsid>_randomfile name string>.csv\""
   ]
  },
  {
   "cell_type": "markdown",
   "id": "b1d93caa-6a2a-42f0-b303-57b21db362ff",
   "metadata": {},
   "source": [
    "### Import relevant libraries including the metsim functions"
   ]
  },
  {
   "cell_type": "code",
   "execution_count": 2,
   "id": "035e67cd-3ad3-402f-9a41-d6e6e7227f91",
   "metadata": {},
   "outputs": [],
   "source": [
    "import os, sys\n",
    "import pandas as pd"
   ]
  },
  {
   "cell_type": "code",
   "execution_count": 3,
   "id": "76858b44-df1c-4ab0-b2a4-7ce5181a9ead",
   "metadata": {},
   "outputs": [],
   "source": [
    "TOP = os.getcwd().replace(\"notebooks\", \"\")\n",
    "raw_dir = TOP + 'data/raw/'\n",
    "processed_dir = TOP + 'data/processed/'\n",
    "figures_dir = TOP + 'reports/figures/'\n",
    "jcim = TOP + 'data/raw/JCIM_PhaseI/'\n",
    "smpdb = TOP + 'data/raw/smpdb_drugs/'\n",
    "missing = TOP + 'data/raw/extra_metsim/'"
   ]
  },
  {
   "cell_type": "code",
   "execution_count": 4,
   "id": "00f00b9e-c540-4387-9bf7-4bc8271681a5",
   "metadata": {},
   "outputs": [],
   "source": [
    "LIB = os.getcwd().replace(\"notebooks\", \"\")"
   ]
  },
  {
   "cell_type": "code",
   "execution_count": 5,
   "id": "10b15699-f273-494f-af35-c28c8c967c43",
   "metadata": {},
   "outputs": [],
   "source": [
    "if not LIB in sys.path: \n",
    "    sys.path.insert(0,LIB)"
   ]
  },
  {
   "cell_type": "code",
   "execution_count": 8,
   "id": "22ba72d9-75be-4ead-abe1-6d1eef52a75a",
   "metadata": {},
   "outputs": [],
   "source": [
    "from metsim.sim.metsim_bt import *"
   ]
  },
  {
   "cell_type": "markdown",
   "id": "d9155a94-1088-436d-ac26-d1e2a9eec2c0",
   "metadata": {},
   "source": [
    "1. metsim_metadata_full():\n",
    "\n",
    "used to save time between running BioTransformer and gathering metabolite metadata. Since BioTransformer suffers more from the \"combinatorial explosion\" issues of having so many metabolites it produces, which is computationally taxing, we run BioTransformer and save the SMILES and generational tracking from it in our dictionary format as a list of dictionaries, and then later use metsim_metadata_full to fill in the metadata for this list of dictionaries.\n",
    "\n",
    "2. btrans_metsim_subprocess():\n",
    "\n",
    "input: SMILES, List of Models, List of Cycles, Delete Tempfile (True/False)\n",
    "action: Simulates human metabolism (Default: 2 cycles Phase I/\"cyp450\", 1 cycle Phase II/\"phaseII\") using BioTransformer 3.0 through Java in the command prompt, producing output data in temporary files that can be kept or deleted. Recursively searches through output CSV to process data into a standardized dictionary output.\n",
    "output: Tuple with dummy index (for parallel processing), Dictionary of precursor and successor SMILES, CASRN, DTXSID, InChIKey as supplemented by HCD (or RDKit for InChIKey), and filename (if del_tmp = False)."
   ]
  },
  {
   "cell_type": "code",
   "execution_count": null,
   "id": "48f802e5-9c03-4f82-87c2-b5657049bc96",
   "metadata": {
    "tags": []
   },
   "outputs": [],
   "source": [
    "# # Load in existing dictionary instead of rerunning.\n",
    "#github URL for RAW readout of SMPDB_59Parents.json (update token in URL as necessary)\n",
    "smpdb_obs_pathways = json.loads(open('smpdb_jcim_valid_aggregate_112parents.json','r'))\n",
    "\n",
    "out_list = []\n",
    "pool = mp.Pool(mp.cpu_count()) #define number of available CPU cores for multiprocessing.\n",
    "\n",
    "out_list = pool.starmap_async(btrans_metsim_subprocess,\n",
    "                              #arguments (must be listed in the same order as given in the function definition):\n",
    "                              [(['ecbased','cyp450','phaseII'], #models\n",
    "                                 1, #cyp_mode\n",
    "                                 [1,2,1], #cycles\n",
    "                                 smpdb_obs_pathways[idx]['input']['hcd_smiles'], #smiles\n",
    "                                 smpdb_obs_pathways[idx]['input']['casrn'], #casrn\n",
    "                                 False, #del_tmp\n",
    "                                 smpdb_obs_pathways[idx]['input']['dtxsid'], #dtxsid\n",
    "                                 smpdb_obs_pathways[idx]['input']['chem_name'], #chem_name\n",
    "                                 idx, #index\n",
    "                                 True #multi_proc\n",
    "                               )\n",
    "                               for idx in range(len(smpdb_obs_pathways[0:4]))]).get() #show for first four chemicals in SMPDB dataset as a test\n",
    "\n",
    "pool.close() #close the processing pool to release resources.\n",
    "\n",
    "# Post-processing of multiprocessed BioTransformer Data\n",
    "for i in range(len(out_list)):\n",
    "    if os.path.getsize(out_list[i][2]) > 0:\n",
    "        input_df = pd.read_csv(out_list[i][2])\n",
    "        parent_list = input_df['Precursor ID']\n",
    "        parent_list = parent_list.drop_duplicates()\n",
    "        out_list[i][1]['output'] = recursive_gen_list(input_df = input_df,\n",
    "                                                      parent_list = parent_list,\n",
    "                                                      successor_list = [],\n",
    "                                                      out_list = [],\n",
    "                                                      gen = 1)\n",
    "    else: #Valid SMILES given, no metabolites produced:\n",
    "            print('No metabolites produced for index #'+str(i))\n",
    "            out_list[i][1]['output'] = [{'precursor': out_list[i][1]['input'],\n",
    "                                         'successors': [{'enzyme': [],\n",
    "                                                         'mechanism': None,\n",
    "                                                         'generation': None,\n",
    "                                                         'metabolite': {'smiles': None,\n",
    "                                                                        'inchikey': None,\n",
    "                                                                        'casrn': None,\n",
    "                                                                        'hcd_smiles': None,\n",
    "                                                                        'dtxsid': None,\n",
    "                                                                        'chem_name': None\n",
    "                                                                       }\n",
    "                                                       }]\n",
    "                                       }]\n",
    "preds_complete = [out_list[i][1] for i in range(len(out_list))]\n",
    "json.dump(preds_complete,open('metsim_biotransformer_1xecbased_2xcyp450_1xphase2_smpdb_test.json','w'))"
   ]
  },
  {
   "cell_type": "code",
   "execution_count": 34,
   "id": "67acd47a-6be6-44a0-826f-58ac5acafd14",
   "metadata": {
    "tags": []
   },
   "outputs": [],
   "source": [
    "preds_complete_all_metadata = metsim_metadata_full(preds_complete_all_metadata,fnam = 'metsim_biotransformer_1xecbased_2xcyp450_1xphase2_smpdb_test.json')"
   ]
  }
 ],
 "metadata": {
  "kernelspec": {
   "display_name": "py39",
   "language": "python",
   "name": "py39"
  },
  "language_info": {
   "codemirror_mode": {
    "name": "ipython",
    "version": 3
   },
   "file_extension": ".py",
   "mimetype": "text/x-python",
   "name": "python",
   "nbconvert_exporter": "python",
   "pygments_lexer": "ipython3",
   "version": "3.9.16"
  },
  "widgets": {
   "application/vnd.jupyter.widget-state+json": {
    "state": {},
    "version_major": 2,
    "version_minor": 0
   }
  }
 },
 "nbformat": 4,
 "nbformat_minor": 5
}
